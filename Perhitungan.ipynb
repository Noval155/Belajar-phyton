{
 "cells": [
  {
   "cell_type": "code",
   "execution_count": 3,
   "id": "f9157a52-24b7-49e9-8e30-60e0796be552",
   "metadata": {},
   "outputs": [
    {
     "name": "stdout",
     "output_type": "stream",
     "text": [
      "19800.0\n"
     ]
    }
   ],
   "source": [
    "harga_asli=20000\n",
    "harga_potongan=2000\n",
    "harga_setelah_potongan=harga_asli-harga_potongan\n",
    "harga_final=harga_setelah_potongan*1.1\n",
    "print(harga_final)"
   ]
  },
  {
   "cell_type": "code",
   "execution_count": null,
   "id": "f1618e0b-a21f-4338-b26f-a9e9a4acc4ee",
   "metadata": {},
   "outputs": [],
   "source": []
  }
 ],
 "metadata": {
  "kernelspec": {
   "display_name": "Python 3 (ipykernel)",
   "language": "python",
   "name": "python3"
  },
  "language_info": {
   "codemirror_mode": {
    "name": "ipython",
    "version": 3
   },
   "file_extension": ".py",
   "mimetype": "text/x-python",
   "name": "python",
   "nbconvert_exporter": "python",
   "pygments_lexer": "ipython3",
   "version": "3.9.10"
  }
 },
 "nbformat": 4,
 "nbformat_minor": 5
}
