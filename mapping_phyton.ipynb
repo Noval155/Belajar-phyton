{
 "cells": [
  {
   "cell_type": "markdown",
   "id": "d7cec68d-5887-42fc-9caa-0dd37e4e43a4",
   "metadata": {},
   "source": [
    "person = {'nama': 'jhon doe', 'pekerjaan':'seorang programmer'}\n",
    "print(person[nama])\n",
    "print(person[pekerjaan])"
   ]
  },
  {
   "cell_type": "code",
   "execution_count": null,
   "id": "fbd6e96f-7386-4bf9-b0f8-5179023fd4c9",
   "metadata": {},
   "outputs": [],
   "source": []
  }
 ],
 "metadata": {
  "kernelspec": {
   "display_name": "Python 3 (ipykernel)",
   "language": "python",
   "name": "python3"
  },
  "language_info": {
   "codemirror_mode": {
    "name": "ipython",
    "version": 3
   },
   "file_extension": ".py",
   "mimetype": "text/x-python",
   "name": "python",
   "nbconvert_exporter": "python",
   "pygments_lexer": "ipython3",
   "version": "3.9.10"
  }
 },
 "nbformat": 4,
 "nbformat_minor": 5
}
