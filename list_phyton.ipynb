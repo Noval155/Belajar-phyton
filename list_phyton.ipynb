{
 "cells": [
  {
   "cell_type": "code",
   "execution_count": 3,
   "id": "a6d1d37a-5e1b-46f9-9803-ac3733461239",
   "metadata": {},
   "outputs": [
    {
     "name": "stdout",
     "output_type": "stream",
     "text": [
      "1\n",
      "4.0\n",
      "empat\n"
     ]
    }
   ],
   "source": [
    "contoh_list = [1, \"dua\", 3, 4.0,5]\n",
    "print(contoh_list[0])\n",
    "print(contoh_list[3])\n",
    "contoh_list = [1, \"dua\", 3, 4.0,5]\n",
    "contoh_list[3] = \"empat\"\n",
    "print(contoh_list[3])\n"
   ]
  },
  {
   "cell_type": "code",
   "execution_count": null,
   "id": "14899188-69bf-4943-8f94-9b17b6beb831",
   "metadata": {},
   "outputs": [],
   "source": []
  }
 ],
 "metadata": {
  "kernelspec": {
   "display_name": "Python 3 (ipykernel)",
   "language": "python",
   "name": "python3"
  },
  "language_info": {
   "codemirror_mode": {
    "name": "ipython",
    "version": 3
   },
   "file_extension": ".py",
   "mimetype": "text/x-python",
   "name": "python",
   "nbconvert_exporter": "python",
   "pygments_lexer": "ipython3",
   "version": "3.9.10"
  }
 },
 "nbformat": 4,
 "nbformat_minor": 5
}
