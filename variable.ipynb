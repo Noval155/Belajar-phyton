{
 "cells": [
  {
   "cell_type": "code",
   "execution_count": 19,
   "id": "67680425-a0a3-4e80-b18c-b63e19379d6b",
   "metadata": {},
   "outputs": [
    {
     "name": "stdout",
     "output_type": "stream",
     "text": [
      "10\n"
     ]
    }
   ],
   "source": [
    "bilangan1=20\n",
    "bilangan2=10\n",
    "print(bilangan1-bilangan2)"
   ]
  },
  {
   "cell_type": "code",
   "execution_count": null,
   "id": "9583c621-7483-4540-9952-32a5fc6f804a",
   "metadata": {},
   "outputs": [],
   "source": []
  }
 ],
 "metadata": {
  "kernelspec": {
   "display_name": "Python 3 (ipykernel)",
   "language": "python",
   "name": "python3"
  },
  "language_info": {
   "codemirror_mode": {
    "name": "ipython",
    "version": 3
   },
   "file_extension": ".py",
   "mimetype": "text/x-python",
   "name": "python",
   "nbconvert_exporter": "python",
   "pygments_lexer": "ipython3",
   "version": "3.9.10"
  }
 },
 "nbformat": 4,
 "nbformat_minor": 5
}
