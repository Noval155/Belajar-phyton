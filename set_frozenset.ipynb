{
 "cells": [
  {
   "cell_type": "code",
   "execution_count": 4,
   "id": "dd53947c-3cc7-44d8-84e1-bb06499da3ff",
   "metadata": {},
   "outputs": [
    {
     "name": "stdout",
     "output_type": "stream",
     "text": [
      "{'linda', 'budi', 'cici', 'dewi'}\n",
      "{'linda', 'budi', 'cici', 'dewi'}\n"
     ]
    }
   ],
   "source": [
    "contoh_set={'dewi','budi','cici','linda','cici'}\n",
    "print(contoh_set)\n",
    "contoh_frozen_set=({'dewi','budi','cici','linda','cici'})\n",
    "print(contoh_frozen_set)"
   ]
  },
  {
   "cell_type": "code",
   "execution_count": null,
   "id": "d94bc29e-2c79-43ef-9163-4663236dd79b",
   "metadata": {},
   "outputs": [],
   "source": []
  }
 ],
 "metadata": {
  "kernelspec": {
   "display_name": "Python 3 (ipykernel)",
   "language": "python",
   "name": "python3"
  },
  "language_info": {
   "codemirror_mode": {
    "name": "ipython",
    "version": 3
   },
   "file_extension": ".py",
   "mimetype": "text/x-python",
   "name": "python",
   "nbconvert_exporter": "python",
   "pygments_lexer": "ipython3",
   "version": "3.9.10"
  }
 },
 "nbformat": 4,
 "nbformat_minor": 5
}
